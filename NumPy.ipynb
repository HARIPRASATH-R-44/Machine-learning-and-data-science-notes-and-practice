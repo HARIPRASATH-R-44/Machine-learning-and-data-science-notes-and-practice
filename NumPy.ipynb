{
  "nbformat": 4,
  "nbformat_minor": 0,
  "metadata": {
    "colab": {
      "provenance": [],
      "authorship_tag": "ABX9TyObOfhPi08uGpf0zVd3hgEd",
      "include_colab_link": true
    },
    "kernelspec": {
      "name": "python3",
      "display_name": "Python 3"
    },
    "language_info": {
      "name": "python"
    }
  },
  "cells": [
    {
      "cell_type": "markdown",
      "metadata": {
        "id": "view-in-github",
        "colab_type": "text"
      },
      "source": [
        "<a href=\"https://colab.research.google.com/github/HARIPRASATH-R-44/Machine-learning-and-data-science-notes-and-practice/blob/main/NumPy.ipynb\" target=\"_parent\"><img src=\"https://colab.research.google.com/assets/colab-badge.svg\" alt=\"Open In Colab\"/></a>"
      ]
    },
    {
      "cell_type": "markdown",
      "source": [
        "# **NUMPY**"
      ],
      "metadata": {
        "id": "tMaFsMAJev1A"
      }
    },
    {
      "cell_type": "markdown",
      "source": [
        "### NumPy is used to do scientific computing and data manipulation and calculations.\n",
        "\n",
        "---\n",
        "\n",
        "\n",
        "Importing Numpy library"
      ],
      "metadata": {
        "id": "1DOHWk7xcjER"
      }
    },
    {
      "cell_type": "code",
      "execution_count": 1,
      "metadata": {
        "id": "9vN3CdJKca7b"
      },
      "outputs": [],
      "source": [
        "import numpy as np"
      ]
    },
    {
      "cell_type": "markdown",
      "source": [
        "Numpy array vs List"
      ],
      "metadata": {
        "id": "dfw3EpoEgkof"
      }
    },
    {
      "cell_type": "code",
      "source": [
        "# MEMORY CONSUMPTION TEST\n",
        "import sys\n",
        "list1= range(1000)\n",
        "print(sys.getsizeof(5)*len(list1))"
      ],
      "metadata": {
        "colab": {
          "base_uri": "https://localhost:8080/"
        },
        "id": "LNJSKx9dgkOc",
        "outputId": "d0030709-2445-4f88-b19b-942a67a73f28"
      },
      "execution_count": 23,
      "outputs": [
        {
          "output_type": "stream",
          "name": "stdout",
          "text": [
            "28000\n"
          ]
        }
      ]
    },
    {
      "cell_type": "code",
      "source": [
        "array=np.arange(1000)\n",
        "print(array.size*array.itemsize)"
      ],
      "metadata": {
        "colab": {
          "base_uri": "https://localhost:8080/"
        },
        "id": "gILZP2QKhmrP",
        "outputId": "51a44e2b-5305-4940-9748-c2ab69394541"
      },
      "execution_count": 24,
      "outputs": [
        {
          "output_type": "stream",
          "name": "stdout",
          "text": [
            "8000\n"
          ]
        }
      ]
    },
    {
      "cell_type": "markdown",
      "source": [
        "In memory consumption test Numpy array won !!"
      ],
      "metadata": {
        "id": "d6GR6FOXiLAR"
      }
    },
    {
      "cell_type": "code",
      "source": [
        "#Speed test\n",
        "import time\n",
        "size=100000000\n",
        "list1=range(size)\n",
        "list2 =range(size)\n",
        "\n",
        "start= time.time()\n",
        "sum=[(x+y) for x,y in zip(list1,list2) ]\n",
        "print(\"time taken : \",(time.time()-start))"
      ],
      "metadata": {
        "colab": {
          "base_uri": "https://localhost:8080/"
        },
        "id": "iNrSt6GKiWH1",
        "outputId": "c885be69-4b9c-4325-a1fb-b1214aca81f4"
      },
      "execution_count": 26,
      "outputs": [
        {
          "output_type": "stream",
          "name": "stdout",
          "text": [
            "time taken :  18.299985647201538\n"
          ]
        }
      ]
    },
    {
      "cell_type": "code",
      "source": [
        "array1 =np.arange(size)\n",
        "array2=np.arange(size)\n",
        "\n",
        "start =time.time()\n",
        "sum2=array1 +array2\n",
        "print(\"time taken : \",(time.time()-start))"
      ],
      "metadata": {
        "colab": {
          "base_uri": "https://localhost:8080/"
        },
        "id": "U8zD72zGkLIL",
        "outputId": "009216ef-1db7-494e-c700-e8bffc88b0c6"
      },
      "execution_count": 27,
      "outputs": [
        {
          "output_type": "stream",
          "name": "stdout",
          "text": [
            "time taken :  0.6254541873931885\n"
          ]
        }
      ]
    },
    {
      "cell_type": "markdown",
      "source": [
        "And again NumPy array wins !!\n",
        "\n",
        "\n",
        "---\n",
        "\n"
      ],
      "metadata": {
        "id": "cjN8zpF7kp-F"
      }
    },
    {
      "cell_type": "markdown",
      "source": [
        "1 dimensional array\n"
      ],
      "metadata": {
        "id": "V29tglUreYl3"
      }
    },
    {
      "cell_type": "code",
      "source": [
        "array1 =np.array([1,2,3,4])\n",
        "array1"
      ],
      "metadata": {
        "colab": {
          "base_uri": "https://localhost:8080/"
        },
        "id": "aLZVbwuVdnGn",
        "outputId": "766a3746-fe2f-47d9-ebb7-5f6155176287"
      },
      "execution_count": 6,
      "outputs": [
        {
          "output_type": "execute_result",
          "data": {
            "text/plain": [
              "array([1, 2, 3, 4])"
            ]
          },
          "metadata": {},
          "execution_count": 6
        }
      ]
    },
    {
      "cell_type": "markdown",
      "source": [
        "Creating a numpy array using array range function"
      ],
      "metadata": {
        "id": "Wg9xog8SfFA1"
      }
    },
    {
      "cell_type": "code",
      "source": [
        "arr= np.arange(1,5)\n",
        "arr"
      ],
      "metadata": {
        "colab": {
          "base_uri": "https://localhost:8080/"
        },
        "id": "hkwmN65Dc3wj",
        "outputId": "d97581d7-6ed5-47c0-95f3-5f4cf8e2311d"
      },
      "execution_count": 13,
      "outputs": [
        {
          "output_type": "execute_result",
          "data": {
            "text/plain": [
              "array([1, 2, 3, 4])"
            ]
          },
          "metadata": {},
          "execution_count": 13
        }
      ]
    },
    {
      "cell_type": "code",
      "source": [
        "print(\"dimension: \",arr.ndim) # to get dimension of the array\n",
        "print(\"size: \",arr.size) # to get the size of the array\n",
        "print(\"size of individual element: \",arr.itemsize) # to get size of a single element in the array\n",
        "print(\"datatype: \",array.dtype )# to get the datatype of the element present in the array"
      ],
      "metadata": {
        "colab": {
          "base_uri": "https://localhost:8080/"
        },
        "id": "obwK1XTimLfO",
        "outputId": "d964a2fb-3f25-4768-c556-66bc9ae5775b"
      },
      "execution_count": 31,
      "outputs": [
        {
          "output_type": "stream",
          "name": "stdout",
          "text": [
            "dimension:  1\n",
            "size:  4\n",
            "size of individual element:  8\n",
            "datatype:  int64\n"
          ]
        }
      ]
    },
    {
      "cell_type": "code",
      "source": [],
      "metadata": {
        "id": "M0r6hLBvnTwb"
      },
      "execution_count": null,
      "outputs": []
    },
    {
      "cell_type": "markdown",
      "source": [
        "2 dimensional array"
      ],
      "metadata": {
        "id": "-0RnPz6yeeNX"
      }
    },
    {
      "cell_type": "code",
      "source": [
        "array_2d =np.array([[1,2],[3,4],[5,6]])\n",
        "array_2d"
      ],
      "metadata": {
        "colab": {
          "base_uri": "https://localhost:8080/"
        },
        "id": "lZPPTGdtdUBd",
        "outputId": "03860f8b-bb66-4fde-802d-d0f61d4d277e"
      },
      "execution_count": 12,
      "outputs": [
        {
          "output_type": "execute_result",
          "data": {
            "text/plain": [
              "array([[1, 2],\n",
              "       [3, 4],\n",
              "       [5, 6]])"
            ]
          },
          "metadata": {},
          "execution_count": 12
        }
      ]
    },
    {
      "cell_type": "code",
      "source": [
        "array_2d.shape"
      ],
      "metadata": {
        "colab": {
          "base_uri": "https://localhost:8080/"
        },
        "id": "2F8HRz7qfobu",
        "outputId": "593055cd-2ba6-430f-9d36-90dfa26b8ddb"
      },
      "execution_count": 17,
      "outputs": [
        {
          "output_type": "execute_result",
          "data": {
            "text/plain": [
              "(3, 2)"
            ]
          },
          "metadata": {},
          "execution_count": 17
        }
      ]
    },
    {
      "cell_type": "markdown",
      "source": [
        "\"**3**\" refers to the no of rows and \"**2**\" refers to the no of column"
      ],
      "metadata": {
        "id": "5X2ayjbVlHoU"
      }
    },
    {
      "cell_type": "code",
      "source": [
        "array_2d.reshape((2,3))\n",
        "print(array_2d)\n",
        "print(array_2d.shape)"
      ],
      "metadata": {
        "colab": {
          "base_uri": "https://localhost:8080/"
        },
        "id": "5ddZLZebfz_n",
        "outputId": "77aeef56-e1b0-4328-ffb8-8e34bcdf7b84"
      },
      "execution_count": 22,
      "outputs": [
        {
          "output_type": "stream",
          "name": "stdout",
          "text": [
            "[[1 2]\n",
            " [3 4]\n",
            " [5 6]]\n",
            "(3, 2)\n"
          ]
        }
      ]
    },
    {
      "cell_type": "code",
      "source": [
        "for cell in array1:\n",
        "  print(cell)"
      ],
      "metadata": {
        "colab": {
          "base_uri": "https://localhost:8080/"
        },
        "id": "P9CyOvDQdupC",
        "outputId": "9341ae2f-2ffe-4766-83cc-771fcbdcbfb3"
      },
      "execution_count": 10,
      "outputs": [
        {
          "output_type": "stream",
          "name": "stdout",
          "text": [
            "1\n",
            "2\n",
            "3\n",
            "4\n"
          ]
        }
      ]
    }
  ]
}