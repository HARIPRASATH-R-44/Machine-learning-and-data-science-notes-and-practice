{
 "cells": [
  {
   "cell_type": "code",
   "execution_count": 3,
   "id": "103ba728",
   "metadata": {},
   "outputs": [],
   "source": [
    "import pandas as pd\n",
    "import sklearn\n",
    "from sklearn.cluster import KMeans"
   ]
  },
  {
   "cell_type": "code",
   "execution_count": 6,
   "id": "87c25999",
   "metadata": {},
   "outputs": [],
   "source": [
    "df=pd.read_csv('Copy of country(1).csv')"
   ]
  },
  {
   "cell_type": "code",
   "execution_count": 7,
   "id": "50f9f6c0",
   "metadata": {},
   "outputs": [
    {
     "data": {
      "text/html": [
       "<div>\n",
       "<style scoped>\n",
       "    .dataframe tbody tr th:only-of-type {\n",
       "        vertical-align: middle;\n",
       "    }\n",
       "\n",
       "    .dataframe tbody tr th {\n",
       "        vertical-align: top;\n",
       "    }\n",
       "\n",
       "    .dataframe thead th {\n",
       "        text-align: right;\n",
       "    }\n",
       "</style>\n",
       "<table border=\"1\" class=\"dataframe\">\n",
       "  <thead>\n",
       "    <tr style=\"text-align: right;\">\n",
       "      <th></th>\n",
       "      <th>Country</th>\n",
       "      <th>Lat</th>\n",
       "      <th>Long</th>\n",
       "      <th>Language</th>\n",
       "    </tr>\n",
       "  </thead>\n",
       "  <tbody>\n",
       "    <tr>\n",
       "      <th>0</th>\n",
       "      <td>Austria</td>\n",
       "      <td>47.68</td>\n",
       "      <td>13.33</td>\n",
       "      <td>english</td>\n",
       "    </tr>\n",
       "    <tr>\n",
       "      <th>1</th>\n",
       "      <td>beljium</td>\n",
       "      <td>50.63</td>\n",
       "      <td>4.67</td>\n",
       "      <td>english</td>\n",
       "    </tr>\n",
       "    <tr>\n",
       "      <th>2</th>\n",
       "      <td>germany</td>\n",
       "      <td>51.15</td>\n",
       "      <td>10.43</td>\n",
       "      <td>german</td>\n",
       "    </tr>\n",
       "    <tr>\n",
       "      <th>3</th>\n",
       "      <td>norway</td>\n",
       "      <td>64.00</td>\n",
       "      <td>18.30</td>\n",
       "      <td>english</td>\n",
       "    </tr>\n",
       "    <tr>\n",
       "      <th>4</th>\n",
       "      <td>India</td>\n",
       "      <td>22.00</td>\n",
       "      <td>78.00</td>\n",
       "      <td>hindi</td>\n",
       "    </tr>\n",
       "    <tr>\n",
       "      <th>5</th>\n",
       "      <td>sreelanka</td>\n",
       "      <td>7.66</td>\n",
       "      <td>80.63</td>\n",
       "      <td>simhala</td>\n",
       "    </tr>\n",
       "    <tr>\n",
       "      <th>6</th>\n",
       "      <td>Australia</td>\n",
       "      <td>-10.45</td>\n",
       "      <td>113.09</td>\n",
       "      <td>english</td>\n",
       "    </tr>\n",
       "    <tr>\n",
       "      <th>7</th>\n",
       "      <td>southafrica</td>\n",
       "      <td>-30.00</td>\n",
       "      <td>25.00</td>\n",
       "      <td>english</td>\n",
       "    </tr>\n",
       "  </tbody>\n",
       "</table>\n",
       "</div>"
      ],
      "text/plain": [
       "       Country    Lat    Long Language\n",
       "0      Austria  47.68   13.33  english\n",
       "1      beljium  50.63    4.67  english\n",
       "2      germany  51.15   10.43   german\n",
       "3       norway  64.00   18.30  english\n",
       "4        India  22.00   78.00    hindi\n",
       "5    sreelanka   7.66   80.63  simhala\n",
       "6    Australia -10.45  113.09  english\n",
       "7  southafrica -30.00   25.00  english"
      ]
     },
     "execution_count": 7,
     "metadata": {},
     "output_type": "execute_result"
    }
   ],
   "source": [
    "df"
   ]
  },
  {
   "cell_type": "code",
   "execution_count": 11,
   "id": "4f0a8b7c",
   "metadata": {},
   "outputs": [],
   "source": [
    "km=KMeans(n_clusters=3)"
   ]
  },
  {
   "cell_type": "code",
   "execution_count": 12,
   "id": "15e6dd4f",
   "metadata": {},
   "outputs": [
    {
     "data": {
      "text/plain": [
       "KMeans(n_clusters=3)"
      ]
     },
     "execution_count": 12,
     "metadata": {},
     "output_type": "execute_result"
    }
   ],
   "source": [
    "km"
   ]
  },
  {
   "cell_type": "code",
   "execution_count": 15,
   "id": "fe6cfbd9",
   "metadata": {},
   "outputs": [],
   "source": [
    "predicted=km.fit_predict(df[['Lat','Long']])"
   ]
  },
  {
   "cell_type": "code",
   "execution_count": 16,
   "id": "f16bf434",
   "metadata": {},
   "outputs": [
    {
     "data": {
      "text/plain": [
       "<matplotlib.collections.PathCollection at 0x2596f297670>"
      ]
     },
     "execution_count": 16,
     "metadata": {},
     "output_type": "execute_result"
    },
    {
     "data": {
      "image/png": "[encoded data removed]",
      "text/plain": [
       "<Figure size 640x480 with 1 Axes>"
      ]
     },
     "metadata": {},
     "output_type": "display_data"
    }
   ],
   "source": [
    "import matplotlib.pyplot as plt\n",
    "plt.scatter(df['Lat'],df['Long'],marker=\"*\",color='red')"
   ]
  },
  {
   "cell_type": "code",
   "execution_count": 17,
   "id": "a7e5f0ef",
   "metadata": {},
   "outputs": [
    {
     "data": {
      "text/plain": [
       "array([0, 0, 0, 0, 1, 1, 1, 2])"
      ]
     },
     "execution_count": 17,
     "metadata": {},
     "output_type": "execute_result"
    }
   ],
   "source": [
    "predicted"
   ]
  },
  {
   "cell_type": "code",
   "execution_count": 18,
   "id": "435f2ff6",
   "metadata": {},
   "outputs": [
    {
     "data": {
      "text/html": [
       "<div>\n",
       "<style scoped>\n",
       "    .dataframe tbody tr th:only-of-type {\n",
       "        vertical-align: middle;\n",
       "    }\n",
       "\n",
       "    .dataframe tbody tr th {\n",
       "        vertical-align: top;\n",
       "    }\n",
       "\n",
       "    .dataframe thead th {\n",
       "        text-align: right;\n",
       "    }\n",
       "</style>\n",
       "<table border=\"1\" class=\"dataframe\">\n",
       "  <thead>\n",
       "    <tr style=\"text-align: right;\">\n",
       "      <th></th>\n",
       "      <th>Country</th>\n",
       "      <th>Lat</th>\n",
       "      <th>Long</th>\n",
       "      <th>Language</th>\n",
       "      <th>clusters</th>\n",
       "    </tr>\n",
       "  </thead>\n",
       "  <tbody>\n",
       "    <tr>\n",
       "      <th>0</th>\n",
       "      <td>Austria</td>\n",
       "      <td>47.68</td>\n",
       "      <td>13.33</td>\n",
       "      <td>english</td>\n",
       "      <td>0</td>\n",
       "    </tr>\n",
       "    <tr>\n",
       "      <th>1</th>\n",
       "      <td>beljium</td>\n",
       "      <td>50.63</td>\n",
       "      <td>4.67</td>\n",
       "      <td>english</td>\n",
       "      <td>0</td>\n",
       "    </tr>\n",
       "    <tr>\n",
       "      <th>2</th>\n",
       "      <td>germany</td>\n",
       "      <td>51.15</td>\n",
       "      <td>10.43</td>\n",
       "      <td>german</td>\n",
       "      <td>0</td>\n",
       "    </tr>\n",
       "    <tr>\n",
       "      <th>3</th>\n",
       "      <td>norway</td>\n",
       "      <td>64.00</td>\n",
       "      <td>18.30</td>\n",
       "      <td>english</td>\n",
       "      <td>0</td>\n",
       "    </tr>\n",
       "    <tr>\n",
       "      <th>4</th>\n",
       "      <td>India</td>\n",
       "      <td>22.00</td>\n",
       "      <td>78.00</td>\n",
       "      <td>hindi</td>\n",
       "      <td>1</td>\n",
       "    </tr>\n",
       "    <tr>\n",
       "      <th>5</th>\n",
       "      <td>sreelanka</td>\n",
       "      <td>7.66</td>\n",
       "      <td>80.63</td>\n",
       "      <td>simhala</td>\n",
       "      <td>1</td>\n",
       "    </tr>\n",
       "    <tr>\n",
       "      <th>6</th>\n",
       "      <td>Australia</td>\n",
       "      <td>-10.45</td>\n",
       "      <td>113.09</td>\n",
       "      <td>english</td>\n",
       "      <td>1</td>\n",
       "    </tr>\n",
       "    <tr>\n",
       "      <th>7</th>\n",
       "      <td>southafrica</td>\n",
       "      <td>-30.00</td>\n",
       "      <td>25.00</td>\n",
       "      <td>english</td>\n",
       "      <td>2</td>\n",
       "    </tr>\n",
       "  </tbody>\n",
       "</table>\n",
       "</div>"
      ],
      "text/plain": [
       "       Country    Lat    Long Language  clusters\n",
       "0      Austria  47.68   13.33  english         0\n",
       "1      beljium  50.63    4.67  english         0\n",
       "2      germany  51.15   10.43   german         0\n",
       "3       norway  64.00   18.30  english         0\n",
       "4        India  22.00   78.00    hindi         1\n",
       "5    sreelanka   7.66   80.63  simhala         1\n",
       "6    Australia -10.45  113.09  english         1\n",
       "7  southafrica -30.00   25.00  english         2"
      ]
     },
     "execution_count": 18,
     "metadata": {},
     "output_type": "execute_result"
    }
   ],
   "source": [
    "df['clusters']=predicted\n",
    "df"
   ]
  },
  {
   "cell_type": "code",
   "execution_count": 20,
   "id": "621bc2e9",
   "metadata": {},
   "outputs": [],
   "source": [
    "df0=df[df['clusters']==0]\n",
    "df1=df[df['clusters']==1]\n",
    "df2=df[df['clusters']==2]"
   ]
  },
  {
   "cell_type": "code",
   "execution_count": 21,
   "id": "d59cc126",
   "metadata": {},
   "outputs": [
    {
     "data": {
      "text/plain": [
       "<matplotlib.collections.PathCollection at 0x2596f4cd7f0>"
      ]
     },
     "execution_count": 21,
     "metadata": {},
     "output_type": "execute_result"
    },
    {
     "data": {
      "image/png": "[encoded data removed]",
      "text/plain": [
       "<Figure size 640x480 with 1 Axes>"
      ]
     },
     "metadata": {},
     "output_type": "display_data"
    }
   ],
   "source": [
    "plt.scatter(df0['Lat'],df0['Long'],marker='*',color='green')\n",
    "plt.scatter(df1['Lat'],df1['Long'],marker='*',color='red')\n",
    "plt.scatter(df2['Lat'],df2['Long'],marker='*',color='blue')"
   ]
  },
  {
   "cell_type": "code",
   "execution_count": 22,
   "id": "2538f11f",
   "metadata": {},
   "outputs": [
    {
     "data": {
      "text/plain": [
       "array([[ 53.365     ,  11.6825    ],\n",
       "       [  6.40333333,  90.57333333],\n",
       "       [-30.        ,  25.        ]])"
      ]
     },
     "execution_count": 22,
     "metadata": {},
     "output_type": "execute_result"
    }
   ],
   "source": [
    "km.cluster_centers_\n"
   ]
  },
  {
   "cell_type": "code",
   "execution_count": 23,
   "id": "483b3f30",
   "metadata": {},
   "outputs": [
    {
     "data": {
      "text/plain": [
       "<matplotlib.collections.PathCollection at 0x2596f67d5e0>"
      ]
     },
     "execution_count": 23,
     "metadata": {},
     "output_type": "execute_result"
    },
    {
     "data": {
      "image/png": "[encoded data removed]",
      "text/plain": [
       "<Figure size 640x480 with 1 Axes>"
      ]
     },
     "metadata": {},
     "output_type": "display_data"
    }
   ],
   "source": [
    "plt.scatter(df0['Lat'],df0['Long'],marker='*',color='green')\n",
    "plt.scatter(df1['Lat'],df1['Long'],marker='*',color='red')\n",
    "plt.scatter(df2['Lat'],df2['Long'],marker='*',color='blue')\n",
    "plt.scatter(km.cluster_centers_[:,0],km.cluster_centers_[:,1],marker='*',color='black')"
   ]
  },
  {
   "cell_type": "code",
   "execution_count": 25,
   "id": "4961d7b1",
   "metadata": {},
   "outputs": [],
   "source": [
    "from sklearn.preprocessing import MinMaxScaler\n",
    "scaler=MinMaxScaler()"
   ]
  },
  {
   "cell_type": "code",
   "execution_count": 30,
   "id": "36e4a24f",
   "metadata": {},
   "outputs": [],
   "source": [
    "scaler.fit(df[['Lat']])\n",
    "df['Lat']=scaler.transform(df[['Lat']])"
   ]
  },
  {
   "cell_type": "code",
   "execution_count": 31,
   "id": "bc7c041c",
   "metadata": {},
   "outputs": [],
   "source": [
    "scaler.fit(df[['Long']])\n",
    "df['Long']=scaler.transform(df[['Long']])"
   ]
  },
  {
   "cell_type": "code",
   "execution_count": 32,
   "id": "81e8e79c",
   "metadata": {},
   "outputs": [
    {
     "data": {
      "text/html": [
       "<div>\n",
       "<style scoped>\n",
       "    .dataframe tbody tr th:only-of-type {\n",
       "        vertical-align: middle;\n",
       "    }\n",
       "\n",
       "    .dataframe tbody tr th {\n",
       "        vertical-align: top;\n",
       "    }\n",
       "\n",
       "    .dataframe thead th {\n",
       "        text-align: right;\n",
       "    }\n",
       "</style>\n",
       "<table border=\"1\" class=\"dataframe\">\n",
       "  <thead>\n",
       "    <tr style=\"text-align: right;\">\n",
       "      <th></th>\n",
       "      <th>Country</th>\n",
       "      <th>Lat</th>\n",
       "      <th>Long</th>\n",
       "      <th>Language</th>\n",
       "      <th>clusters</th>\n",
       "    </tr>\n",
       "  </thead>\n",
       "  <tbody>\n",
       "    <tr>\n",
       "      <th>0</th>\n",
       "      <td>Austria</td>\n",
       "      <td>0.826383</td>\n",
       "      <td>0.079875</td>\n",
       "      <td>english</td>\n",
       "      <td>0</td>\n",
       "    </tr>\n",
       "    <tr>\n",
       "      <th>1</th>\n",
       "      <td>beljium</td>\n",
       "      <td>0.857766</td>\n",
       "      <td>0.000000</td>\n",
       "      <td>english</td>\n",
       "      <td>0</td>\n",
       "    </tr>\n",
       "    <tr>\n",
       "      <th>2</th>\n",
       "      <td>germany</td>\n",
       "      <td>0.863298</td>\n",
       "      <td>0.053127</td>\n",
       "      <td>german</td>\n",
       "      <td>0</td>\n",
       "    </tr>\n",
       "    <tr>\n",
       "      <th>3</th>\n",
       "      <td>norway</td>\n",
       "      <td>1.000000</td>\n",
       "      <td>0.125715</td>\n",
       "      <td>english</td>\n",
       "      <td>0</td>\n",
       "    </tr>\n",
       "    <tr>\n",
       "      <th>4</th>\n",
       "      <td>India</td>\n",
       "      <td>0.553191</td>\n",
       "      <td>0.676351</td>\n",
       "      <td>hindi</td>\n",
       "      <td>1</td>\n",
       "    </tr>\n",
       "    <tr>\n",
       "      <th>5</th>\n",
       "      <td>sreelanka</td>\n",
       "      <td>0.400638</td>\n",
       "      <td>0.700609</td>\n",
       "      <td>simhala</td>\n",
       "      <td>1</td>\n",
       "    </tr>\n",
       "    <tr>\n",
       "      <th>6</th>\n",
       "      <td>Australia</td>\n",
       "      <td>0.207979</td>\n",
       "      <td>1.000000</td>\n",
       "      <td>english</td>\n",
       "      <td>1</td>\n",
       "    </tr>\n",
       "    <tr>\n",
       "      <th>7</th>\n",
       "      <td>southafrica</td>\n",
       "      <td>0.000000</td>\n",
       "      <td>0.187512</td>\n",
       "      <td>english</td>\n",
       "      <td>2</td>\n",
       "    </tr>\n",
       "  </tbody>\n",
       "</table>\n",
       "</div>"
      ],
      "text/plain": [
       "       Country       Lat      Long Language  clusters\n",
       "0      Austria  0.826383  0.079875  english         0\n",
       "1      beljium  0.857766  0.000000  english         0\n",
       "2      germany  0.863298  0.053127   german         0\n",
       "3       norway  1.000000  0.125715  english         0\n",
       "4        India  0.553191  0.676351    hindi         1\n",
       "5    sreelanka  0.400638  0.700609  simhala         1\n",
       "6    Australia  0.207979  1.000000  english         1\n",
       "7  southafrica  0.000000  0.187512  english         2"
      ]
     },
     "execution_count": 32,
     "metadata": {},
     "output_type": "execute_result"
    }
   ],
   "source": [
    "df"
   ]
  },
  {
   "cell_type": "code",
   "execution_count": 35,
   "id": "40a318fd",
   "metadata": {},
   "outputs": [
    {
     "name": "stderr",
     "output_type": "stream",
     "text": [
      "C:\\Users\\harip\\anaconda3\\lib\\site-packages\\sklearn\\cluster\\_kmeans.py:1036: UserWarning: KMeans is known to have a memory leak on Windows with MKL, when there are less chunks than available threads. You can avoid it by setting the environment variable OMP_NUM_THREADS=1.\n",
      "  warnings.warn(\n"
     ]
    },
    {
     "data": {
      "text/plain": [
       "[1.913778038791494,\n",
       " 0.5378057846666695,\n",
       " 0.15097757758048586,\n",
       " 0.03806332208503518,\n",
       " 0.01602913313799778]"
      ]
     },
     "execution_count": 35,
     "metadata": {},
     "output_type": "execute_result"
    }
   ],
   "source": [
    "sse=[]\n",
    "for i in range(1,6):\n",
    "    km2=KMeans(n_clusters=i)\n",
    "    km2.fit(df[['Lat','Long']])\n",
    "    sse.append(km2.inertia_)\n",
    "sse"
   ]
  },
  {
   "cell_type": "code",
   "execution_count": 37,
   "id": "59c34e8a",
   "metadata": {},
   "outputs": [],
   "source": [
    "km_new=KMeans(n_clusters=3)"
   ]
  },
  {
   "cell_type": "code",
   "execution_count": 40,
   "id": "81671195",
   "metadata": {},
   "outputs": [
    {
     "data": {
      "text/plain": [
       "array([1, 1, 1, 1, 0, 0, 0, 2])"
      ]
     },
     "execution_count": 40,
     "metadata": {},
     "output_type": "execute_result"
    }
   ],
   "source": [
    "km_new.fit_predict(df[['Lat','Long']])"
   ]
  },
  {
   "cell_type": "code",
   "execution_count": 41,
   "id": "0e67ca1c",
   "metadata": {},
   "outputs": [
    {
     "data": {
      "text/plain": [
       "<matplotlib.collections.PathCollection at 0x2596f63eac0>"
      ]
     },
     "execution_count": 41,
     "metadata": {},
     "output_type": "execute_result"
    },
    {
     "data": {
      "image/png": "[encoded data removed]",
      "text/plain": [
       "<Figure size 640x480 with 1 Axes>"
      ]
     },
     "metadata": {},
     "output_type": "display_data"
    }
   ],
   "source": [
    "plt.scatter(df0['Lat'],df0['Long'],marker='*',color='green')\n",
    "plt.scatter(df1['Lat'],df1['Long'],marker='*',color='red')\n",
    "plt.scatter(df2['Lat'],df2['Long'],marker='*',color='blue')"
   ]
  },
  {
   "cell_type": "code",
   "execution_count": 42,
   "id": "31d8fff3",
   "metadata": {},
   "outputs": [
    {
     "data": {
      "text/plain": [
       "0.15097757758048586"
      ]
     },
     "execution_count": 42,
     "metadata": {},
     "output_type": "execute_result"
    }
   ],
   "source": [
    "km_new.inertia_"
   ]
  },
  {
   "cell_type": "code",
   "execution_count": 43,
   "id": "7e15b715",
   "metadata": {},
   "outputs": [
    {
     "data": {
      "text/html": [
       "<div>\n",
       "<style scoped>\n",
       "    .dataframe tbody tr th:only-of-type {\n",
       "        vertical-align: middle;\n",
       "    }\n",
       "\n",
       "    .dataframe tbody tr th {\n",
       "        vertical-align: top;\n",
       "    }\n",
       "\n",
       "    .dataframe thead th {\n",
       "        text-align: right;\n",
       "    }\n",
       "</style>\n",
       "<table border=\"1\" class=\"dataframe\">\n",
       "  <thead>\n",
       "    <tr style=\"text-align: right;\">\n",
       "      <th></th>\n",
       "      <th>Country</th>\n",
       "      <th>Lat</th>\n",
       "      <th>Long</th>\n",
       "      <th>Language</th>\n",
       "      <th>clusters</th>\n",
       "    </tr>\n",
       "  </thead>\n",
       "  <tbody>\n",
       "    <tr>\n",
       "      <th>0</th>\n",
       "      <td>Austria</td>\n",
       "      <td>0.826383</td>\n",
       "      <td>0.079875</td>\n",
       "      <td>english</td>\n",
       "      <td>0</td>\n",
       "    </tr>\n",
       "    <tr>\n",
       "      <th>1</th>\n",
       "      <td>beljium</td>\n",
       "      <td>0.857766</td>\n",
       "      <td>0.000000</td>\n",
       "      <td>english</td>\n",
       "      <td>0</td>\n",
       "    </tr>\n",
       "    <tr>\n",
       "      <th>2</th>\n",
       "      <td>germany</td>\n",
       "      <td>0.863298</td>\n",
       "      <td>0.053127</td>\n",
       "      <td>german</td>\n",
       "      <td>0</td>\n",
       "    </tr>\n",
       "    <tr>\n",
       "      <th>3</th>\n",
       "      <td>norway</td>\n",
       "      <td>1.000000</td>\n",
       "      <td>0.125715</td>\n",
       "      <td>english</td>\n",
       "      <td>0</td>\n",
       "    </tr>\n",
       "    <tr>\n",
       "      <th>4</th>\n",
       "      <td>India</td>\n",
       "      <td>0.553191</td>\n",
       "      <td>0.676351</td>\n",
       "      <td>hindi</td>\n",
       "      <td>1</td>\n",
       "    </tr>\n",
       "    <tr>\n",
       "      <th>5</th>\n",
       "      <td>sreelanka</td>\n",
       "      <td>0.400638</td>\n",
       "      <td>0.700609</td>\n",
       "      <td>simhala</td>\n",
       "      <td>1</td>\n",
       "    </tr>\n",
       "    <tr>\n",
       "      <th>6</th>\n",
       "      <td>Australia</td>\n",
       "      <td>0.207979</td>\n",
       "      <td>1.000000</td>\n",
       "      <td>english</td>\n",
       "      <td>1</td>\n",
       "    </tr>\n",
       "    <tr>\n",
       "      <th>7</th>\n",
       "      <td>southafrica</td>\n",
       "      <td>0.000000</td>\n",
       "      <td>0.187512</td>\n",
       "      <td>english</td>\n",
       "      <td>2</td>\n",
       "    </tr>\n",
       "  </tbody>\n",
       "</table>\n",
       "</div>"
      ],
      "text/plain": [
       "       Country       Lat      Long Language  clusters\n",
       "0      Austria  0.826383  0.079875  english         0\n",
       "1      beljium  0.857766  0.000000  english         0\n",
       "2      germany  0.863298  0.053127   german         0\n",
       "3       norway  1.000000  0.125715  english         0\n",
       "4        India  0.553191  0.676351    hindi         1\n",
       "5    sreelanka  0.400638  0.700609  simhala         1\n",
       "6    Australia  0.207979  1.000000  english         1\n",
       "7  southafrica  0.000000  0.187512  english         2"
      ]
     },
     "execution_count": 43,
     "metadata": {},
     "output_type": "execute_result"
    }
   ],
   "source": [
    "df"
   ]
  },
  {
   "cell_type": "code",
   "execution_count": null,
   "id": "6641046b",
   "metadata": {},
   "outputs": [],
   "source": []
  }
 ],
 "metadata": {
  "kernelspec": {
   "display_name": "Python 3 (ipykernel)",
   "language": "python",
   "name": "python3"
  },
  "language_info": {
   "codemirror_mode": {
    "name": "ipython",
    "version": 3
   },
   "file_extension": ".py",
   "mimetype": "text/x-python",
   "name": "python",
   "nbconvert_exporter": "python",
   "pygments_lexer": "ipython3",
   "version": "3.9.13"
  }
 },
 "nbformat": 4,
 "nbformat_minor": 5
}
